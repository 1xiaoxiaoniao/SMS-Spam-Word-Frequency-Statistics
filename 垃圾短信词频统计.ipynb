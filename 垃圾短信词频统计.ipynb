{
 "cells": [
  {
   "cell_type": "code",
   "execution_count": 1,
   "metadata": {
    "scrolled": true
   },
   "outputs": [
    {
     "name": "stderr",
     "output_type": "stream",
     "text": [
      "Building prefix dict from the default dictionary ...\n",
      "Loading model from cache c:\\users\\51457\\appdata\\local\\temp\\jieba.cache\n",
      "Loading model cost 0.520 seconds.\n",
      "Prefix dict has been built succesfully.\n"
     ]
    },
    {
     "name": "stdout",
     "output_type": "stream",
     "text": [
      "[(u'元', 2224), (u'月', 1937), (u'日', 1288), (u'中国移动', 1246), (u'助手', 1199), (u'设置', 1021), (u'万', 978), (u'流量', 894), (u'冲浪', 863), (u'送', 827), (u'免费', 822), (u'北京', 784), (u'年', 784), (u'下载', 784), (u'平', 730), (u'话费', 691), (u'请', 680), (u'Iphone5', 680), (u'优惠', 666), (u'详询', 615), (u'手机', 613), (u'参与', 596), (u'回', 572), (u'娱乐', 572), (u'想', 561), (u'com', 558), (u'回复', 546), (u'中国', 537), (u'地铁', 532), (u'点击', 531), (u'00', 531), (u'短信', 527), (u'抽奖', 526), (u'活动', 513), (u'询', 500), (u'费', 493), (u'中', 491), (u'电话', 476), (u'联通', 471), (u'登录', 468), (u'体验', 462), (u'热线', 461), (u'数字', 456), (u'买', 451), (u'30', 446), (u'投资', 436), (u'成功', 432), (u'20', 432), (u'次', 428), (u'精品', 415), (u'健康', 409), (u'标准', 403), (u'21', 403), (u'访问', 398), (u'咨询', 391), (u'资讯', 374), (u'收费', 373), (u'有人', 371), (u'优先', 371), (u'天', 370), (u'2013', 369), (u'搜狐', 366), (u'推荐', 365), (u'地址', 364), (u'体育', 362), (u'用户', 362), (u'生活', 362), (u'通信', 359), (u'接收', 353), (u'―', 353), (u'孕妇', 347), (u'众', 341), (u'纸袋', 337), (u'碰腿', 337), (u'互殴', 337), (u'亲们', 336), (u'下个', 334), (u'天上掉', 334), (u'回执', 334), (u'65800712', 334), (u'公司', 332), (u'折', 327), (u'50', 323), (u'300223', 322), (u'15', 322), (u'会员', 322), (u'曝光', 314), (u'即可', 313), (u'机会', 312), (u'尊敬', 310), (u'658123', 309), (u'疯狂', 308), (u'国际', 304), (u'㎡', 302), (u'客户', 302), (u'详情', 301), (u'秒杀', 296), (u'学员', 296), (u'新', 294), (u'号', 294)]\n",
      "\n",
      "(100L, 2L)\n"
     ]
    }
   ],
   "source": [
    "import jieba \n",
    "import codecs\n",
    "import re \n",
    "from collections import Counter\n",
    "import numpy as np\n",
    "\n",
    "inputwords_file = \"C:/Users/51457/Documents/spam.txt\"   \n",
    "stopwords_file = \"C:/Users/51457/Documents/stopwords.dat\"\n",
    "\n",
    "## 读取文件\n",
    "def readfile(filepath):\n",
    "    fp = codecs.open(filepath, \"r\", encoding=\"utf-8\")\n",
    "    content = fp.read()\n",
    "    fp.close()\n",
    "    return content\n",
    "\n",
    "## 保存文件\n",
    "def savefile(savepath, content):\n",
    "    fp = codecs.open(savepath,\"w\",encoding='utf-8')\n",
    "    fp.write(content)\n",
    "    fp.close()\n",
    "    \n",
    "## 按行加载文件\n",
    "def readwordslist(filepath):\n",
    "    wordslist = readfile(filepath).splitlines()\n",
    "    return wordslist\n",
    "\n",
    "## 去除输入文本中的网址数据 \n",
    "## 顺便把换行符和空格符也去了\n",
    "def filter_url_tag(urlstring): \n",
    "    results = re.compile(r'http://[a-zA-Z0-9.?/&=:]*',re.S)\n",
    "    return results.sub(\"\", urlstring).replace('\\n','').replace(' ','').replace(u'\\u2605','').replace('10','')\n",
    "\n",
    "cutwordslist = []\n",
    "stopwords = readwordslist(stopwords_file)\n",
    "\n",
    "for url_line in readwordslist(inputwords_file):  \n",
    "    line = filter_url_tag(url_line)\n",
    "    cutwordslist += [word for word in jieba.cut(line, cut_all=False) if word not in stopwords]\n",
    "\n",
    "cutwords = dict(Counter(cutwordslist))\n",
    "\n",
    "outputwords = {}\n",
    "for k, v in cutwords.items():\n",
    "    if k in outputwords.keys():\n",
    "        outputwords[k] += v\n",
    "    else:\n",
    "        outputwords[k] = v\n",
    "\n",
    "outputwords_sorted = sorted(outputwords.items(), key= lambda x : x[1], reverse=True)[:100]\n",
    "## print outputwords_sorted\n",
    "## 使输出能正常显示中文字符\n",
    "print(repr(outputwords_sorted).decode('unicode-escape'))         \n",
    "print \"\"\n",
    "print np.shape(outputwords_sorted)"
   ]
  },
  {
   "cell_type": "code",
   "execution_count": null,
   "metadata": {},
   "outputs": [],
   "source": []
  }
 ],
 "metadata": {
  "kernelspec": {
   "display_name": "Python 2",
   "language": "python",
   "name": "python2"
  },
  "language_info": {
   "codemirror_mode": {
    "name": "ipython",
    "version": 2
   },
   "file_extension": ".py",
   "mimetype": "text/x-python",
   "name": "python",
   "nbconvert_exporter": "python",
   "pygments_lexer": "ipython2",
   "version": "2.7.15"
  }
 },
 "nbformat": 4,
 "nbformat_minor": 2
}
